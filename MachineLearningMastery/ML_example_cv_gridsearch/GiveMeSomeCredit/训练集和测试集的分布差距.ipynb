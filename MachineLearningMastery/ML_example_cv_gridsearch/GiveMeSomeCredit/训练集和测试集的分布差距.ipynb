{
 "cells": [
  {
   "cell_type": "markdown",
   "metadata": {},
   "source": [
    "# 训练集和测试集的分布差距"
   ]
  },
  {
   "cell_type": "markdown",
   "metadata": {},
   "source": [
    "机器学习常见步骤\n",
    "\n",
    "1.对数据集进行划分，分为训练集和测试集两部分；\n",
    "\n",
    "2.对模型在测试集上面的泛化性能进行度量；\n",
    "\n",
    "3.基于测试集上面的泛化性能，依据假设检验来推广到全部数据集上面的泛化性能。\n"
   ]
  },
  {
   "cell_type": "markdown",
   "metadata": {},
   "source": [
    "##  1.KDE (核密度估计)分布图"
   ]
  },
  {
   "cell_type": "code",
   "execution_count": 1,
   "metadata": {},
   "outputs": [
    {
     "name": "stderr",
     "output_type": "stream",
     "text": [
      "C:\\Users\\Administrator\\AppData\\Local\\Temp\\ipykernel_278868\\3193544935.py:9: RuntimeWarning: covariance is not positive-semidefinite.\n",
      "  test_feat, _ = np.random.multivariate_normal(test_mean, test_cov, size=50).T\n"
     ]
    },
    {
     "data": {
      "image/png": "[encoded data removed]",
      "text/plain": [
       "<Figure size 432x288 with 1 Axes>"
      ]
     },
     "metadata": {
      "needs_background": "light"
     },
     "output_type": "display_data"
    }
   ],
   "source": [
    "\n",
    "import numpy as np\n",
    "import seaborn as sns\n",
    "import matplotlib.pyplot as plt\n",
    "\n",
    "# 创建样例特征\n",
    "train_mean, train_cov = [0, 2], [(1, .5), (.5, 1)]\n",
    "test_mean, test_cov = [0, .5], [(1, 1), (.6, 1)]\n",
    "train_feat, _ = np.random.multivariate_normal(train_mean, train_cov, size=50).T\n",
    "test_feat, _ = np.random.multivariate_normal(test_mean, test_cov, size=50).T\n",
    "\n",
    "# 绘KDE对比分布\n",
    "sns.kdeplot(train_feat, shade = True, color='r', label = 'train')\n",
    "sns.kdeplot(test_feat, shade = True, color='b', label = 'test')\n",
    "plt.xlabel('Feature')\n",
    "plt.legend()\n",
    "plt.show()"
   ]
  },
  {
   "cell_type": "code",
   "execution_count": 2,
   "metadata": {},
   "outputs": [
    {
     "data": {
      "text/plain": [
       "array([ 1.38344361,  0.23734988, -0.63976965, -0.81901126, -1.15209967,\n",
       "       -0.37837165, -1.29437802,  0.74000058, -0.57523223, -1.29278175,\n",
       "       -0.15351919, -0.69941778,  0.63843715, -1.20621758, -0.12485409,\n",
       "        1.54816172, -0.02985711, -0.23845767,  0.74883395,  0.60864499,\n",
       "       -0.69992079, -0.03984014, -0.74833941,  1.14629823,  1.26359279,\n",
       "        0.13534323,  0.03631827,  1.82381181, -0.09035555, -0.36196891,\n",
       "        0.30367811, -0.10705447,  0.22263107,  0.2818344 ,  0.72248825,\n",
       "        0.03451492, -0.19233567, -0.68224752, -1.65759939, -2.68840715,\n",
       "       -0.59737339, -0.64889786, -0.28965388, -0.68558441, -1.10020098,\n",
       "       -2.13136472, -0.11079884, -0.18021612,  0.74009935,  0.87168708])"
      ]
     },
     "execution_count": 2,
     "metadata": {},
     "output_type": "execute_result"
    }
   ],
   "source": [
    "train_feat"
   ]
  },
  {
   "cell_type": "markdown",
   "metadata": {},
   "source": [
    "## 2.KS检验"
   ]
  },
  {
   "cell_type": "code",
   "execution_count": 3,
   "metadata": {},
   "outputs": [
    {
     "data": {
      "text/plain": [
       "KstestResult(statistic=0.18, pvalue=0.3959398631708505)"
      ]
     },
     "execution_count": 3,
     "metadata": {},
     "output_type": "execute_result"
    }
   ],
   "source": [
    "\n",
    "from scipy import stats\n",
    "stats.ks_2samp(train_feat, test_feat)"
   ]
  },
  {
   "cell_type": "markdown",
   "metadata": {},
   "source": [
    "若KS统计值小且p值大，则我们可以接受KS检验的原假设H0，即两个数据分布一致。\n",
    "\n",
    "上面样例数据的统计值较低，p值大于10%但不是很高，因此反映分布略微不一致。\n",
    "\n",
    "注意: p值<0.01，强烈建议拒绝原假设H0，p值越大，越倾向于原假设H0成立。"
   ]
  }
 ],
 "metadata": {
  "kernelspec": {
   "display_name": "Python 3.9.12 ('base')",
   "language": "python",
   "name": "python3"
  },
  "language_info": {
   "codemirror_mode": {
    "name": "ipython",
    "version": 3
   },
   "file_extension": ".py",
   "mimetype": "text/x-python",
   "name": "python",
   "nbconvert_exporter": "python",
   "pygments_lexer": "ipython3",
   "version": "3.9.12"
  },
  "orig_nbformat": 4,
  "vscode": {
   "interpreter": {
    "hash": "91bb753b057673435fb8d6f6a083e6c818364728098c7ae050ca3a25357dd754"
   }
  }
 },
 "nbformat": 4,
 "nbformat_minor": 2
}
