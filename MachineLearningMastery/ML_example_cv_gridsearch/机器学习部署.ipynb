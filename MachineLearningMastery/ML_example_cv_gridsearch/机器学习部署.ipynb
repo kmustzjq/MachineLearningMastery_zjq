{
 "cells": [
  {
   "cell_type": "markdown",
   "metadata": {},
   "source": [
    "## 制作基本预测脚本\n",
    "\n",
    "如果您正在遵循目录结构，那么现在应该打开 model/Train.py 文件。你先要加载虹膜数据集，并使用一个简单的决策树分类器来训练模型。训练完成后，我将使用 joblib 库保存模型，并将精度分数报告给用户。"
   ]
  },
  {
   "cell_type": "code",
   "execution_count": 1,
   "metadata": {},
   "outputs": [],
   "source": [
    "import os\n",
    "os.chdir(r'D:\\soft_code\\machine_learning\\machinelearning\\ML_example_cv_gridsearch')"
   ]
  },
  {
   "cell_type": "code",
   "execution_count": null,
   "metadata": {},
   "outputs": [],
   "source": [
    "from sklearn import datasets\n",
    "from sklearn.tree import DecisionTreeClassifier\n",
    "from sklearn.model_selection import train_test_split\n",
    "from sklearn.metrics import accuracy_score\n",
    "from sklearn.externals import joblib\n",
    "\n",
    "def train_model():\n",
    "   iris_df = datasets.load_iris()\n",
    "\n",
    "   x = iris_df.data\n",
    "   y = iris_df.target\n",
    "\n",
    "   X_train, X_test, y_train, y_test = train_test_split(x, y, test_size=0.25)\n",
    "   dt = DecisionTreeClassifier().fit(X_train, y_train)\n",
    "   preds = dt.predict(X_test)\n",
    "\n",
    "   accuracy = accuracy_score(y_test, preds)\n",
    "   joblib.dump(dt, 'model/iris-model.model')\n",
    "   print('Model Training Finished.\\n\\tAccuracy obtained: {}'.format(accuracy))"
   ]
  },
  {
   "cell_type": "markdown",
   "metadata": {},
   "source": [
    "## 部署\n",
    "\n",
    "现在你可以打开 app.py 文件并执行一些导入操作。你需要操作系统模块：Flask 和 Flask RESTful 中的一些东西，它们是 10 秒前创建的模型训练脚本，你还要将它们和 joblib 加载到训练模型中："
   ]
  },
  {
   "cell_type": "code",
   "execution_count": null,
   "metadata": {},
   "outputs": [],
   "source": [
    "import os\n",
    "from flask import Flask, jsonify, request\n",
    "from flask_restful import Api, Resource\n",
    "from model.Train import train_model\n",
    "from sklearn.externals import joblib\n",
    "\n",
    "app = Flask(__name__)\n",
    "api = Api(app)\n",
    "\n",
    "if not os.path.isfile('model/iris-model.model'):\n",
    "   train_model()\n",
    "\n",
    "model = joblib.load('model/iris-model.model')\n",
    "\n",
    "class MakePrediction(Resource):\n",
    "   @staticmethod\n",
    "   def post():\n",
    "       posted_data = request.get_json()\n",
    "       sepal_length = posted_data['sepal_length']\n",
    "       sepal_width = posted_data['sepal_width']\n",
    "       petal_length = posted_data['petal_length']\n",
    "       petal_width = posted_data['petal_width']\n",
    "\n",
    "       prediction = model.predict([[sepal_length, sepal_width, petal_length, petal_width]])[0]\n",
    "       if prediction == 0:\n",
    "           predicted_class = 'Iris-setosa'\n",
    "       elif prediction == 1:\n",
    "           predicted_class = 'Iris-versicolor'\n",
    "       else:\n",
    "           predicted_class = 'Iris-virginica'\n",
    "\n",
    "       return jsonify({\n",
    "           'Prediction': predicted_class\n",
    "       })\n",
    "\n",
    "api.add_resource(MakePrediction, '/predict')\n",
    "\n",
    "if __name__ == '__main__':\n",
    "   app.run(debug=True)"
   ]
  }
 ],
 "metadata": {
  "kernelspec": {
   "display_name": "Python 3.7.12 ('MachineLearning')",
   "language": "python",
   "name": "python3"
  },
  "language_info": {
   "codemirror_mode": {
    "name": "ipython",
    "version": 3
   },
   "file_extension": ".py",
   "mimetype": "text/x-python",
   "name": "python",
   "nbconvert_exporter": "python",
   "pygments_lexer": "ipython3",
   "version": "3.7.12"
  },
  "orig_nbformat": 4,
  "vscode": {
   "interpreter": {
    "hash": "d7e1cbe28ed3875f6a4214958609dcad181c488131a7cb4b31ea2dac398219a6"
   }
  }
 },
 "nbformat": 4,
 "nbformat_minor": 2
}
