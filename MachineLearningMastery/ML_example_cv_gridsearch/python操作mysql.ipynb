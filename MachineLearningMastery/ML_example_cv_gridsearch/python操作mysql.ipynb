{
 "cells": [
  {
   "cell_type": "code",
   "execution_count": 23,
   "metadata": {},
   "outputs": [],
   "source": [
    "#%% 导入必要模块\n",
    "import pandas as pd\n",
    "from sqlalchemy import create_engine\n",
    "\n",
    "# 初始化数据库连接，使用pymysql模块\n",
    "db_info = {'user': 'root',\n",
    "           'password': '123456',\n",
    "           'host': 'localhost',\n",
    "           'port': 3306,\n",
    "           'database': 'ss_ent_evaluation_system_manage'\n",
    "           }\n",
    "\n",
    "engine = create_engine('mysql+pymysql://%(user)s:%(password)s@%(host)s:%(port)d/%(database)s?charset=utf8' % db_info, encoding='utf-8')"
   ]
  },
  {
   "cell_type": "markdown",
   "metadata": {},
   "source": [
    "## 1、创建数据库表"
   ]
  },
  {
   "cell_type": "code",
   "execution_count": 32,
   "metadata": {},
   "outputs": [],
   "source": [
    "# -*-coding:utf-8-*-\n",
    "\n",
    "import pymysql\n",
    "\n",
    "# 打开数据库连接（此处修改用户名和密码）\n",
    "conn = pymysql.connect(host='localhost',user='root',password='123456',db='test')\n",
    "\n",
    "\n",
    "# 使用cursor()方法创建一个游标对象cursor\n",
    "cursor = conn.cursor()  # 游标对象用于执行查询和获取结果\n",
    "\n",
    "\n",
    "# 使用execute()方法执行SQL，如果表存在则将其删除\n",
    "cursor.execute('DROP TABLE IF EXISTS EMPLOYEE')\n",
    "\n",
    "# 使用预处理语句创建表\n",
    "sql = \"\"\"CREATE TABLE `employee` (\n",
    "  `first_name` varchar(255) DEFAULT NULL COMMENT '姓',\n",
    "  `last_name` varchar(255) DEFAULT NULL COMMENT '名',\n",
    "  `age` int(11) DEFAULT NULL COMMENT '年龄',\n",
    "  `sex` varchar(255) DEFAULT NULL COMMENT '性别',\n",
    "  `income` varchar(255) DEFAULT NULL COMMENT '收入' )\"\"\"\n",
    "\n",
    "# 执行SQL语句\n",
    "cursor.execute(sql)\n",
    "\n",
    "# 关闭数据库连接\n",
    "conn.close()\n"
   ]
  },
  {
   "cell_type": "markdown",
   "metadata": {},
   "source": [
    "## 2、插入数据"
   ]
  },
  {
   "cell_type": "code",
   "execution_count": 34,
   "metadata": {},
   "outputs": [],
   "source": [
    "# -*-coding:utf-8-*-\n",
    "\n",
    "import pymysql\n",
    "\n",
    "# 打开数据库连接\n",
    "conn =  pymysql.connect(host='localhost',user='root',password='123456',db='test')\n",
    "\n",
    "# 使用cursor()方法获取操作游标\n",
    "cursor = conn.cursor()\n",
    "\n",
    "# SQL语句：向数据表中插入数据\n",
    "sql = \"\"\"INSERT INTO employee(first_name,\n",
    "         last_name, age, sex, income)\n",
    "         VALUES ('Mac', 'Mohan', 20, 'M', 2000)\"\"\" #修改这一行数据，可多次插入\n",
    "\n",
    "# 异常处理\n",
    "try:\n",
    "    # 执行SQL语句\n",
    "    cursor.execute(sql)\n",
    "    # 提交事务到数据库执行\n",
    "    conn.commit()  # 事务是访问和更新数据库的一个程序执行单元\n",
    "except:\n",
    "    # 如果发生错误则执行回滚操作\n",
    "    conn.rollback()\n",
    "\n",
    "# 关闭数据库连接\n",
    "conn.close()\n"
   ]
  },
  {
   "cell_type": "markdown",
   "metadata": {},
   "source": [
    "## 3、查询数据"
   ]
  },
  {
   "cell_type": "code",
   "execution_count": 35,
   "metadata": {},
   "outputs": [
    {
     "name": "stdout",
     "output_type": "stream",
     "text": [
      "('Mac', 'Mohan', 20, 'M', '2000')\n",
      "Mac Mohan 20 M 2000\n"
     ]
    }
   ],
   "source": [
    "# -*-coding:utf-8-*-\n",
    "\n",
    "import pymysql\n",
    "\n",
    "# 打开数据库连接\n",
    "conn =  pymysql.connect(host='localhost',user='root',password='123456',db='test')\n",
    "\n",
    "# 使用cursor()方法获取操作游标\n",
    "cursor = conn.cursor()\n",
    "\n",
    "# SQL语句：查询\n",
    "sql = \"SELECT * FROM employee WHERE income > 100 \"\n",
    "\n",
    "# 异常处理\n",
    "try:\n",
    "    # 执行SQL语句\n",
    "    cursor.execute(sql)\n",
    "    # 获取所有的记录列表\n",
    "    results = cursor.fetchall()\n",
    "    # 遍历列表\n",
    "    for row in results:\n",
    "        # 打印列表元素\n",
    "        print(row)\n",
    "        # 姓\n",
    "        first_name = row[0]\n",
    "        # 名\n",
    "        last_name = row[1]\n",
    "        # 年龄\n",
    "        age = row[2]\n",
    "        # 性别\n",
    "        sex = row[3]\n",
    "        # 收入\n",
    "        income = row[4]\n",
    "        # 打印列表元素\n",
    "        print(first_name, last_name, age, sex, income)\n",
    "except:\n",
    "    print('Uable to fetch data!')\n",
    "\n",
    "# 关闭数据库连接\n",
    "conn.close()\n"
   ]
  },
  {
   "cell_type": "markdown",
   "metadata": {},
   "source": [
    "## 4、删除数据"
   ]
  },
  {
   "cell_type": "code",
   "execution_count": 39,
   "metadata": {},
   "outputs": [],
   "source": [
    "# -*-coding:utf-8-*-\n",
    "\n",
    "import pymysql\n",
    "\n",
    "# 打开数据库连接\n",
    "conn =  pymysql.connect(host='localhost',user='root',password='123456',db='test')\n",
    "\n",
    "# 使用cursor()方法获取操作游标\n",
    "cursor = conn.cursor()\n",
    "\n",
    "# SQL语句，执行删除操作\n",
    "sql = 'DELETE FROM employee WHERE income > 500 AND age >25'\n",
    "\n",
    "# 异常处理\n",
    "try:\n",
    "    # 执行SQL语句\n",
    "    cursor.execute(sql)\n",
    "    # 提交到数据库执行\n",
    "    conn.commit()\n",
    "except:\n",
    "    # 发生错误时回滚\n",
    "    conn.rollback()\n",
    "\n",
    "# 关闭数据库连接\n",
    "conn.close()\n"
   ]
  },
  {
   "cell_type": "markdown",
   "metadata": {},
   "source": [
    "## 5、更新数据"
   ]
  },
  {
   "cell_type": "code",
   "execution_count": null,
   "metadata": {},
   "outputs": [],
   "source": [
    "# -*-coding:utf-8-*-\n",
    "\n",
    "import pymysql\n",
    "\n",
    "# 打开数据库连接\n",
    "conn =  pymysql.connect(host='localhost',user='root',password='123456',db='test')\n",
    "\n",
    "# 使用cursor()方法获取操作游标\n",
    "cursor = conn.cursor()\n",
    "\n",
    "# SQL语句，执行更新操作\n",
    "sql = 'UPDATE employee SET age = age + 5 WHERE sex = \"M\"'\n",
    "\n",
    "# 异常处理\n",
    "try:\n",
    "    # 执行SQL语句\n",
    "    cursor.execute(sql)\n",
    "    # 提交到数据库执行\n",
    "    conn.commit()\n",
    "except:\n",
    "    # 发生错误时回滚\n",
    "    conn.rollback()\n",
    "\n",
    "# 关闭数据库连接\n",
    "conn.close()\n"
   ]
  }
 ],
 "metadata": {
  "kernelspec": {
   "display_name": "Python 3.9.12 ('base')",
   "language": "python",
   "name": "python3"
  },
  "language_info": {
   "codemirror_mode": {
    "name": "ipython",
    "version": 3
   },
   "file_extension": ".py",
   "mimetype": "text/x-python",
   "name": "python",
   "nbconvert_exporter": "python",
   "pygments_lexer": "ipython3",
   "version": "3.9.12"
  },
  "orig_nbformat": 4,
  "vscode": {
   "interpreter": {
    "hash": "91bb753b057673435fb8d6f6a083e6c818364728098c7ae050ca3a25357dd754"
   }
  }
 },
 "nbformat": 4,
 "nbformat_minor": 2
}
