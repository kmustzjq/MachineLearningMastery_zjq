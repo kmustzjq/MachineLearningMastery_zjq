{
 "cells": [
  {
   "cell_type": "code",
   "execution_count": 3,
   "metadata": {},
   "outputs": [],
   "source": [
    "import json\n",
    "from urllib.request import urlopen, quote\n",
    "\n",
    "import requests\n",
    "import time\n",
    "import random\n",
    "import string\n",
    "class bd_lng_lat():\n",
    "\n",
    "    def getlnglat(self,searchWord):\n",
    "        if searchWord is None or searchWord=='':\n",
    "            print('查询关键词非法')\n",
    "            return None\n",
    "        else:\n",
    "            searchWord=searchWord.replace(\"\\n\", \"\")\n",
    "        print('百度地图查询：',searchWord)#,self.address\n",
    "\n",
    "        url = 'http://api.map.baidu.com/geocoding/v3/'\n",
    "        output = 'json'\n",
    "        # ak = 'WykY9QKmhPiXe10gxzxiTCypo3XLukXv' # 百度地图ak，具体申请自行百度，提醒需要在“控制台”-“设置”-“启动服务”-“正逆地理编码”，启动\n",
    "        ak = '836NGgjMQee4BmdRBplsz37AU2uDekZ3' # 小颜\n",
    "        address = quote(searchWord) # 由于本文地址变量为中文，为防止乱码，先用quote进行编码\n",
    "        uri = url + '?' + 'address=' + address  + '&output=' + output + '&ak=' + ak  +'&callback=showLocation%20'+'//GET%E8%AF%B7%E6%B1%82'\n",
    "        res=requests.get(uri).text\n",
    "        temp = json.loads(res) # 将字符串转化为json\n",
    "        if temp['status']!=0:\n",
    "            # address = quote(self.address)\n",
    "            # uri = url + '?' + 'address=' + address + '&output=' + output + '&ak=' + ak + '&callback=showLocation%20' + '//GET%E8%AF%B7%E6%B1%82'\n",
    "            # res = requests.get(uri).text\n",
    "            # temp = json.loads(res)\n",
    "            # if temp['status'] == 1:\n",
    "                return None\n",
    "        # print(temp['result']['location']['lng'])\n",
    "        # print(temp['result']['location']['lat'])\n",
    "        lng=temp['result']['location']['lng']\n",
    "        # lng='%.3f' % lng\n",
    "        # lng += self.random_str()\n",
    "        lat=temp['result']['location']['lat']\n",
    "        # lat='%.3f' % lat\n",
    "        # lat += self.random_str()\n",
    "        return {\n",
    "            'name':searchWord,\n",
    "            'lng': lng,\n",
    "            'lat': lat,\n",
    "        }\n",
    "\n",
    "    def random_str(self, random_len=7):\n",
    "        digit = list(string.digits)\n",
    "        random.shuffle(digit)\n",
    "        result=''.join(digit[:random_len])\n",
    "        # print(result)\n",
    "        return  result\n",
    "\n",
    "    def getAddress(self,lng,lat):\n",
    "        url = 'http://api.map.baidu.com/reverse_geocoding/v3/'\n",
    "        output = 'json'\n",
    "        ak = 'WykY9QKmhPiXe10gxzxiTCypo3XLukXv' # 百度地图ak，具体申请自行百度，提醒需要在“控制台”-“设置”-“启动服务”-“正逆地理编码”，启动\n",
    "        ak = '836NGgjMQee4BmdRBplsz37AU2uDekZ3' # 小颜\n",
    "        uri = url + '?' + 'ak=' + ak  + '&output=' + output + '&coordtype=wgs84ll'   +'&location='+lat+','+lng +'&extensions_town=true'  #//GET%E8%AF%B7%E6%B1%82'\n",
    "        try:\n",
    "            res=requests.get(uri).text\n",
    "\n",
    "\n",
    "            result = json.loads(res)\n",
    "            print(result)\n",
    "        except:\n",
    "            res = requests.get(uri).text\n",
    "\n",
    "            result = json.loads(res)\n",
    "        if result['status']==0:\n",
    "            data={\n",
    "                'province':result['result']['addressComponent']['province'],\n",
    "                'city':result['result']['addressComponent']['city'],\n",
    "                'district':result['result']['addressComponent']['district'],\n",
    "                'town':result['result']['addressComponent']['town'],\n",
    "                'adcode':result['result']['addressComponent']['adcode'],\n",
    "                'town_code':result['result']['addressComponent']['town_code'],\n",
    "            }\n",
    "        else:\n",
    "            data=None\n",
    "        return  data\n",
    "\n"
   ]
  },
  {
   "cell_type": "code",
   "execution_count": 4,
   "metadata": {},
   "outputs": [
    {
     "name": "stdout",
     "output_type": "stream",
     "text": [
      "百度地图查询： 福建晋江润木信息科技有限公司\n",
      "{'name': '福建晋江润木信息科技有限公司', 'lng': 118.55843052000408, 'lat': 24.787824575144548}\n"
     ]
    }
   ],
   "source": [
    "if __name__ == '__main__':\n",
    "    t1=bd_lng_lat()#,'sfsdfa'\n",
    "    answer=t1.getlnglat('福建晋江润木信息科技有限公司')\n",
    "    print(answer)\n",
    "    # data=t1.getAddress('118.6823649051','24.9503269185')\n",
    "    # print(data)"
   ]
  }
 ],
 "metadata": {
  "kernelspec": {
   "display_name": "Python 3.9.12 ('base')",
   "language": "python",
   "name": "python3"
  },
  "language_info": {
   "codemirror_mode": {
    "name": "ipython",
    "version": 3
   },
   "file_extension": ".py",
   "mimetype": "text/x-python",
   "name": "python",
   "nbconvert_exporter": "python",
   "pygments_lexer": "ipython3",
   "version": "3.9.12"
  },
  "orig_nbformat": 4,
  "vscode": {
   "interpreter": {
    "hash": "91bb753b057673435fb8d6f6a083e6c818364728098c7ae050ca3a25357dd754"
   }
  }
 },
 "nbformat": 4,
 "nbformat_minor": 2
}
