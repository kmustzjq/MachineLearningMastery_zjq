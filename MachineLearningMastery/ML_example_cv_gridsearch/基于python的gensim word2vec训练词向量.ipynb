{
 "cells": [
  {
   "cell_type": "code",
   "execution_count": 11,
   "metadata": {},
   "outputs": [
    {
     "name": "stdout",
     "output_type": "stream",
     "text": [
      "Word2Vec(vocab=335, size=100, alpha=0.025)\n",
      "[('创新示范企业', 0.33381450176239014), ('市级创新示范企业', 0.24127668142318726), ('泉州市', 0.22696936130523682), ('参加展会', 0.21087771654129028), ('企业类别', 0.20617835223674774), ('知识产权优势企业', 0.20465737581253052), ('主要行业', 0.19924302399158478), ('创业基地', 0.19529074430465698), ('国家计算机信息系统集成资质一级', 0.17870952188968658), ('研发中心型总部', 0.17751353979110718)]\n"
     ]
    }
   ],
   "source": [
    "import logging\n",
    "import os\n",
    "import sys\n",
    "import multiprocessing\n",
    "import gensim\n",
    "from gensim.models import Word2Vec\n",
    "from gensim.models.word2vec import PathLineSentences\n",
    "import warnings\n",
    "warnings.filterwarnings(\"ignore\",category=DeprecationWarning)\n",
    "\n",
    "# 加载模型\n",
    "# input_dir = 'data/douluo_cut_word.txt'\n",
    "input_dir = r'D:\\soft_code\\machine_learning\\machinelearning\\ML_example_cv_gridsearch\\gensim\\keyword.txt'\n",
    "\n",
    "outp2 = r'D:\\soft_code\\machine_learning\\machinelearning\\ML_example_cv_gridsearch\\gensim\\douluo.vector'\n",
    "\n",
    "model = Word2Vec(PathLineSentences(input_dir),\n",
    "                    size=100, window=10, min_count=1,\n",
    "                    workers=multiprocessing.cpu_count(), iter=10)\n",
    "print(model)\n",
    "print(model.most_similar('众创空间'))\n",
    "model.wv.save_word2vec_format(outp2, binary=False)\n",
    "\n"
   ]
  },
  {
   "cell_type": "code",
   "execution_count": 14,
   "metadata": {},
   "outputs": [
    {
     "name": "stdout",
     "output_type": "stream",
     "text": [
      "[('季度用电', 0.22406843304634094), ('经营活动', 0.19927583634853363), ('年交易额', 0.1983659267425537)]\n"
     ]
    }
   ],
   "source": [
    "print(model.most_similar('物联网',topn=3))"
   ]
  },
  {
   "cell_type": "markdown",
   "metadata": {},
   "source": [
    "# 保存和加载模型"
   ]
  },
  {
   "cell_type": "code",
   "execution_count": 16,
   "metadata": {},
   "outputs": [
    {
     "name": "stdout",
     "output_type": "stream",
     "text": [
      "('季度用电', 0.22406843304634094)\n",
      "('经营活动', 0.19927583634853363)\n",
      "('年交易额', 0.1983659267425537)\n",
      "('性别', 0.19516438245773315)\n",
      "('省软件产业专项资金奖励', 0.18886548280715942)\n",
      "('武器装备科研生产备案凭证', 0.18832193315029144)\n",
      "('泉州市级众创空间', 0.1810043454170227)\n",
      "('高精度减速器', 0.17661558091640472)\n",
      "('知识产权试点企业', 0.1733141541481018)\n",
      "('中国外观设计金奖', 0.15597911179065704)\n"
     ]
    }
   ],
   "source": [
    "outp1 = 'D:\\soft_code\\machine_learning\\machinelearning\\ML_example_cv_gridsearch\\gensim\\douluo.model'\n",
    "model.save(outp1)\n",
    "model = gensim.models.Word2Vec.load(outp1)\n",
    "for key in model.similar_by_word('物联网', topn=10):\n",
    "    print(key)"
   ]
  }
 ],
 "metadata": {
  "kernelspec": {
   "display_name": "Python 3.7.12 ('MachineLearning')",
   "language": "python",
   "name": "python3"
  },
  "language_info": {
   "codemirror_mode": {
    "name": "ipython",
    "version": 3
   },
   "file_extension": ".py",
   "mimetype": "text/x-python",
   "name": "python",
   "nbconvert_exporter": "python",
   "pygments_lexer": "ipython3",
   "version": "3.7.12"
  },
  "orig_nbformat": 4,
  "vscode": {
   "interpreter": {
    "hash": "d7e1cbe28ed3875f6a4214958609dcad181c488131a7cb4b31ea2dac398219a6"
   }
  }
 },
 "nbformat": 4,
 "nbformat_minor": 2
}
